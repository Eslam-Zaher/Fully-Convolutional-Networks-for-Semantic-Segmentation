{
  "nbformat": 4,
  "nbformat_minor": 0,
  "metadata": {
    "accelerator": "GPU",
    "colab": {
      "name": "FCN.ipynb",
      "provenance": [],
      "collapsed_sections": [],
      "machine_shape": "hm"
    },
    "kernelspec": {
      "display_name": "Python 3",
      "name": "python3"
    },
    "language_info": {
      "name": "python"
    }
  },
  "cells": [
    {
      "cell_type": "code",
      "metadata": {
        "id": "Z7A-FnVR7Plm"
      },
      "source": [
        ""
      ],
      "execution_count": null,
      "outputs": []
    },
    {
      "cell_type": "markdown",
      "metadata": {
        "id": "x7bYqdTl1yxr"
      },
      "source": [
        "<h1 align=\"center\">Semantic Image Segmentation based on \n",
        "Fully Convolutional Network (FCNs) </h1>\n",
        "<h2 align=\"center\">CIE 552 - Spring 2021 </h>"
      ]
    },
    {
      "cell_type": "markdown",
      "metadata": {
        "id": "fjXu6zalDK7t"
      },
      "source": [
        "An implementation of the paper : **[\"Fully Convolutional Networks for Semantic Segmentation\"](https://arxiv.org/pdf/1411.4038.pdf)**\n",
        "\n",
        "\n",
        "\n",
        "\n",
        "\n",
        "*J. Long, E. Shelhamer, and T. Darrell, “Fully convolutional networks for semantic segmentation,” 2015 IEEE Conference on Computer Vision and Pattern Recognition (CVPR), 2015.*"
      ]
    },
    {
      "cell_type": "code",
      "metadata": {
        "colab": {
          "base_uri": "https://localhost:8080/"
        },
        "id": "myeKF6G8LjxY",
        "outputId": "123d937c-bce8-4ba2-de82-9a9e13708c1c"
      },
      "source": [
        "'''This block and the following are just to check if the \n",
        "    runtime is chosen correctly ''' \n",
        "gpu_info = !nvidia-smi\n",
        "gpu_info = '\\n'.join(gpu_info)\n",
        "if gpu_info.find('failed') >= 0:\n",
        "  print('Select \"Runtime\" -> \"Change runtime type\" menu to enable a GPU accelerator, ')\n",
        "  print('and then re-execute this cell.')\n",
        "else:\n",
        "  print(gpu_info)"
      ],
      "execution_count": null,
      "outputs": [
        {
          "output_type": "stream",
          "text": [
            "Fri Jul  2 08:58:42 2021       \n",
            "+-----------------------------------------------------------------------------+\n",
            "| NVIDIA-SMI 465.27       Driver Version: 460.32.03    CUDA Version: 11.2     |\n",
            "|-------------------------------+----------------------+----------------------+\n",
            "| GPU  Name        Persistence-M| Bus-Id        Disp.A | Volatile Uncorr. ECC |\n",
            "| Fan  Temp  Perf  Pwr:Usage/Cap|         Memory-Usage | GPU-Util  Compute M. |\n",
            "|                               |                      |               MIG M. |\n",
            "|===============================+======================+======================|\n",
            "|   0  Tesla V100-SXM2...  Off  | 00000000:00:04.0 Off |                    0 |\n",
            "| N/A   34C    P0    25W / 300W |      0MiB / 16160MiB |      0%      Default |\n",
            "|                               |                      |                  N/A |\n",
            "+-------------------------------+----------------------+----------------------+\n",
            "                                                                               \n",
            "+-----------------------------------------------------------------------------+\n",
            "| Processes:                                                                  |\n",
            "|  GPU   GI   CI        PID   Type   Process name                  GPU Memory |\n",
            "|        ID   ID                                                   Usage      |\n",
            "|=============================================================================|\n",
            "|  No running processes found                                                 |\n",
            "+-----------------------------------------------------------------------------+\n"
          ],
          "name": "stdout"
        }
      ]
    },
    {
      "cell_type": "code",
      "metadata": {
        "colab": {
          "base_uri": "https://localhost:8080/"
        },
        "id": "miHBGWYOLjjN",
        "outputId": "c6c02ac7-f37a-4753-8729-4cd0fc552907"
      },
      "source": [
        "from psutil import virtual_memory\n",
        "ram_gb = virtual_memory().total / 1e9\n",
        "print('Your runtime has {:.1f} gigabytes of available RAM\\n'.format(ram_gb))\n",
        "\n",
        "if ram_gb < 20:\n",
        "  print('To enable a high-RAM runtime, select the Runtime > \"Change runtime type\"')\n",
        "  print('menu, and then select High-RAM in the Runtime shape dropdown. Then, ')\n",
        "  print('re-execute this cell.')\n",
        "else:\n",
        "  print('You are using a high-RAM runtime!')"
      ],
      "execution_count": null,
      "outputs": [
        {
          "output_type": "stream",
          "text": [
            "Your runtime has 27.3 gigabytes of available RAM\n",
            "\n",
            "You are using a high-RAM runtime!\n"
          ],
          "name": "stdout"
        }
      ]
    },
    {
      "cell_type": "markdown",
      "metadata": {
        "id": "OP2RBzJlWLq4"
      },
      "source": [
        "#Import Libraries"
      ]
    },
    {
      "cell_type": "code",
      "metadata": {
        "id": "s5rser8PEfqr"
      },
      "source": [
        "!pip install np_utils\n",
        "import cv2\n",
        "import numpy as np\n",
        "from PIL import Image\n",
        "import h5py\n",
        "import os\n",
        "import random\n",
        "import threading\n",
        "import queue\n",
        "import string\n",
        "import matplotlib.pyplot as plt\n",
        "import datetime\n",
        "import io\n",
        "import json\n",
        "\n",
        "import keras\n",
        "import tensorflow as tf\n",
        "from keras.models import Model, load_model\n",
        "from keras.layers import Input, LSTM, Dense, Conv2D, MaxPooling2D, Reshape, Dropout, BatchNormalization, Activation, Conv2DTranspose, Add, ZeroPadding2D, Cropping2D\n",
        "from keras.callbacks import EarlyStopping\n",
        "import keras.backend as K\n",
        "from keras.optimizers import Adam, SGD\n",
        "from keras.applications.vgg16 import VGG16\n",
        "from keras.models import model_from_json\n",
        "from tensorflow.keras.preprocessing.image import load_img, img_to_array"
      ],
      "execution_count": null,
      "outputs": []
    },
    {
      "cell_type": "markdown",
      "metadata": {
        "id": "Pczw-d4-Vrd9"
      },
      "source": [
        "#Pre-Processing & Loading Dataset"
      ]
    },
    {
      "cell_type": "code",
      "metadata": {
        "id": "V3IVc87EVqr7"
      },
      "source": [
        "#Class for Dataset Preparation\n",
        "\n",
        "class VOC2012:\n",
        "    def __init__(self, root_path='/content/drive/MyDrive/VOC2012', image_size=(224, 224), resize_method='resize'):\n",
        "        '''\n",
        "        This function allows for the creation of a VOC2012 object containing the dataset with relevant functions\n",
        "        Args:\n",
        "            root_path: the Pascal VOC 2012 folder path\n",
        "            image_size: resize all images and labels into this size\n",
        "        '''\n",
        "        self.root_path = root_path\n",
        "        self.resize_method = resize_method\n",
        "\n",
        "        if root_path[len(root_path) - 1] != '/' and root_path[len(root_path) - 1] != '\\\\':\n",
        "            self.root_path += '/'\n",
        "        self.train_names_path = self.root_path + 'ImageSets/Segmentation/train.txt'\n",
        "        self.val_names_path = self.root_path + 'ImageSets/Segmentation/val.txt'\n",
        "        self.image_path = self.root_path + 'JPEGImages/'\n",
        "        self.label_path = self.root_path + 'SegmentationClass/'\n",
        "        self.image_size = image_size\n",
        "        if os.path.isfile(self.train_names_path):\n",
        "            self.read_train_names()\n",
        "        if os.path.isfile(self.val_names_path):\n",
        "            self.read_val_names()\n",
        "\n",
        "    def read_train_names(self):\n",
        "        '''\n",
        "        Read the filenames of training images and labels into self.train_list\n",
        "        '''\n",
        "        self.train_names = []\n",
        "        f = open(self.train_names_path, 'r')\n",
        "        line = None\n",
        "        while 1:\n",
        "            line = f.readline().replace('\\n', '')\n",
        "            if line is None or len(line) == 0:\n",
        "                break\n",
        "            self.train_names.append(line)\n",
        "        f.close()\n",
        "\n",
        "    def read_val_names(self):\n",
        "        '''\n",
        "        Read the filenames of validation images and labels into self.val_list\n",
        "        '''\n",
        "        self.val_names = []\n",
        "        f = open(self.val_names_path, 'r')\n",
        "        line = None\n",
        "        while 1:\n",
        "            line = f.readline().replace('\\n', '')\n",
        "            if line is None or len(line) == 0:\n",
        "                break\n",
        "            self.val_names.append(line)\n",
        "        f.close()\n",
        "        \n",
        "\n",
        "    def get_train(self):\n",
        "        '''\n",
        "        Returns a \"tuple\" of lists containg all of the training images & labels respectively ... each element in each of the lists is a 224x224x3 numpy array representing an image.\n",
        "        '''\n",
        "        batch_images = []\n",
        "        batch_labels = []\n",
        "\n",
        "        for i in range(int(len(self.train_names))):\n",
        "            image = cv2.imread(self.image_path + self.train_names[i] + '.jpg')\n",
        "            if self.image_size:\n",
        "                image = cv2.resize(image, self.image_size)\n",
        "            label = np.array(Image.open(self.label_path + self.train_names[i] + '.png'))\n",
        "            label[label > 20] = 0\n",
        "            if self.image_size:\n",
        "                label = cv2.resize(label, self.image_size, interpolation=cv2.INTER_NEAREST)\n",
        "            batch_images.append(image)\n",
        "            batch_labels.append(label)\n",
        "\n",
        "        return np.array(batch_images), np.array(batch_labels)\n",
        "\n",
        "    def get_val(self):\n",
        "        '''\n",
        "        Returns a \"tuple\" of lists containg all of the validation images & labels respectively ... each element in each of the lists is a 224x224x3 numpy array representing an image.\n",
        "        '''        \n",
        "        batch_images = []\n",
        "        batch_labels = []\n",
        "\n",
        "        for i in range(int(len(self.val_names))):\n",
        "            image = cv2.imread(self.image_path + self.val_names[i] + '.jpg')\n",
        "            if self.image_size:\n",
        "                image = cv2.resize(image, self.image_size)\n",
        "            label = np.array(Image.open(self.label_path + self.val_names[i] + '.png'))\n",
        "            label[label > 20] = 0\n",
        "            if self.image_size:\n",
        "                label = cv2.resize(label, self.image_size, interpolation=cv2.INTER_NEAREST)\n",
        "            batch_images.append(image)\n",
        "            batch_labels.append(label)\n",
        "        return np.array(batch_images), np.array(batch_labels)\n",
        "\n",
        "\n",
        "    def read_all_data_and_save(self, train_data_save_path='/content/drive/MyDrive/CVproject/voc2012_train.h5', val_data_save_path='./voc2012_val.h5'):\n",
        "        '''\n",
        "        Read training and validation data and save them into two .h5 files.\n",
        "        Args:\n",
        "            train_data_save_path:The path you want to save training data into.\n",
        "            val_data_save_path:The path you want to save validation data into.\n",
        "        '''\n",
        "        self.read_train_images()\n",
        "        self.read_train_labels()\n",
        "        self.read_val_images()\n",
        "        self.read_val_labels()\n",
        "        self.save_train_data(train_data_save_path)\n",
        "        self.save_val_data(val_data_save_path)\n",
        "\n",
        "    def save_train_data(self, path='/content/drive/MyDrive/CVproject/voc2012_train.h5'):\n",
        "        '''\n",
        "        save training images and labels into path in the form of .h5\n",
        "        Args:\n",
        "            path:The path you want to save train data into.It must be xxx.h5\n",
        "        '''\n",
        "        save_h5(path, self.train_images, self.train_labels)\n",
        "\n",
        "    def save_val_data(self, path='/content/drive/MyDrive/CVproject/voc2012_val.h5'):\n",
        "        '''\n",
        "        save validation images and labels into path in the form of .h5\n",
        "        Args:\n",
        "            path:The path you want to save train data into.It must be xxx.h5\n",
        "        '''\n",
        "        save_h5(path, self.val_images, self.val_labels)\n",
        "\n",
        "    def save_h5(self, path ,images, labels ):\n",
        "      with h5py.File(path,'w') as hdf:\n",
        "        hdf.create_dataset('images',data=images)\n",
        "        hdf.create_dataset('labels',data=labels)\n",
        "\n",
        "\n",
        "\n",
        "    def load_all_data(self, train_data_load_path='/content/drive/MyDrive/CVproject/voc2012_train.h5', val_data_load_path='/content/drive/MyDrive/CVproject/voc2012_val.h5'):\n",
        "        '''\n",
        "        Load training and validation data from .h5 files\n",
        "        Args:\n",
        "            train_data_load_path:The training data .h5 file path.\n",
        "            val_data_load_path:The validation data .h5 file path.\n",
        "        '''\n",
        "        self.load_train_data(train_data_load_path)\n",
        "        self.load_val_data(val_data_load_path)\n",
        "\n",
        "    def read_train_images(self):\n",
        "        '''\n",
        "        Read training images into self.train_images\n",
        "        If you haven't called self.read_train_list(), it will call first\n",
        "        After reading images, it will resize them\n",
        "        '''\n",
        "        self.train_images = []\n",
        "        if hasattr(self, 'train_list') == False:\n",
        "            self.read_train_list()\n",
        "        for filename in self.train_list:\n",
        "            image = cv2.imread(self.image_path + filename + '.jpg')\n",
        "            if self.resize_method == 'resize':\n",
        "                image = cv2.resize(image, self.image_size)\n",
        "            elif self.resize_method == 'pad':\n",
        "                height = np.shape(image)[0]\n",
        "                width = np.shape(image)[1]\n",
        "                image = cv2.copyMakeBorder(image, 0, 500 - height, 0, 500 - width, cv2.BORDER_CONSTANT, value=0)\n",
        "            self.train_images.append(image)\n",
        "            if len(self.train_images) % 100 == 0:\n",
        "                print('Reading train images', len(self.train_images), '/', len(self.train_list))\n",
        "\n",
        "    def read_train_labels(self):\n",
        "        '''\n",
        "        Read training labels into self.train_labels\n",
        "        If you haven't called self.read_train_list(), it will call first\n",
        "        After reading labels, it will resize them\n",
        "        Note:image[image > 20] = 0 will remove all white borders in original labels\n",
        "        '''\n",
        "        self.train_labels = []\n",
        "        if hasattr(self, 'train_list') == False:\n",
        "            self.read_train_list()\n",
        "        for filename in self.train_list:\n",
        "            image = Image.open(self.label_path + filename + '.png')\n",
        "            image = np.array(image)\n",
        "            image[image > 20] = 0\n",
        "            if self.resize_method == 'resize':\n",
        "                image = cv2.resize(image, self.image_size, interpolation=cv2.INTER_NEAREST)\n",
        "            elif self.resize_method == 'pad':\n",
        "                height = np.shape(image)[0]\n",
        "                width = np.shape(image)[1]\n",
        "                image = cv2.copyMakeBorder(image, 0, 500 - height, 0, 500 - width, cv2.BORDER_CONSTANT, value=0)\n",
        "            image[image > 20] = 0\n",
        "            self.train_labels.append(image)\n",
        "            if len(self.train_labels) % 100 == 0:\n",
        "                print('Reading train labels', len(self.train_labels), '/', len(self.train_list))\n",
        "\n",
        "    def read_val_images(self):\n",
        "        '''\n",
        "           Read validation images into self.val_images\n",
        "           If you haven't called self.read_val_list(), it will call first\n",
        "           After reading images, it will resize them\n",
        "        '''\n",
        "        self.val_images = []\n",
        "        if hasattr(self, 'val_list') == False:\n",
        "            self.read_val_list()\n",
        "        for filename in self.val_list:\n",
        "            image = cv2.imread(self.image_path + filename + '.jpg')\n",
        "            if self.resize_method == 'resize':\n",
        "                image = cv2.resize(image, self.image_size)\n",
        "            elif self.resize_method == 'pad':\n",
        "                height = np.shape(image)[0]\n",
        "                width = np.shape(image)[1]\n",
        "                image = cv2.copyMakeBorder(image, 0, 500 - height, 0, 500 - width, cv2.BORDER_CONSTANT, value=0)\n",
        "            self.val_images.append(image)\n",
        "            if len(self.val_images) % 100 == 0:\n",
        "                print('Reading val images', len(self.val_images), '/', len(self.val_list))\n",
        "\n",
        "    def read_val_labels(self):\n",
        "        '''\n",
        "           Read validation labels into self.val_labels\n",
        "           If you haven't called self.read_val_list(), it will call first\n",
        "           After reading labels, it will resize them\n",
        "           Note:image[image > 100] = 0 will remove all white borders in original labels\n",
        "        '''\n",
        "        self.val_labels = []\n",
        "        if hasattr(self, 'val_list') == False:\n",
        "            self.read_val_list()\n",
        "        for filename in self.val_list:\n",
        "            image = Image.open(self.label_path + filename + '.png')\n",
        "            image = np.array(image)\n",
        "            image[image > 20] = 0\n",
        "            if self.resize_method == 'resize':\n",
        "                image = cv2.resize(image, self.image_size, interpolation=cv2.INTER_NEAREST)\n",
        "            elif self.resize_method == 'pad':\n",
        "                height = np.shape(image)[0]\n",
        "                width = np.shape(image)[1]\n",
        "                image = cv2.copyMakeBorder(image, 0, 500 - height, 0, 500 - width, cv2.BORDER_CONSTANT, value=0)\n",
        "            image[image > 20] = 0\n",
        "            self.val_labels.append(image)\n",
        "            if len(self.val_labels) % 100 == 0:\n",
        "                print('Reading val labels', len(self.val_labels), '/', len(self.val_list))\n",
        "\n",
        "    def read_train_list(self):\n",
        "        '''\n",
        "        Read the filenames of training images and labels into self.train_list\n",
        "        '''\n",
        "        self.train_list = []\n",
        "        f = open(self.train_names_path, 'r')\n",
        "        line = None\n",
        "        while 1:\n",
        "            line = f.readline().replace('\\n', '')\n",
        "            if line is None or len(line) == 0:\n",
        "                break\n",
        "            self.train_list.append(line)\n",
        "        f.close()\n",
        "    \n",
        "    def read_val_list(self):\n",
        "        '''\n",
        "        Read the filenames of validation images and labels into self.val_list\n",
        "        '''\n",
        "        self.val_list = []\n",
        "        f = open(self.val_names_path, 'r')\n",
        "        line = None\n",
        "        while 1:\n",
        "            line = f.readline().replace('\\n', '')\n",
        "            if line is None or len(line) == 0:\n",
        "                break\n",
        "            self.val_list.append(line)\n",
        "        f.close()\n",
        "\n",
        "    def load_all_data(self, train_data_load_path='/content/drive/MyDrive/CVproject/voc2012_train.h5', val_data_load_path='/content/drive/MyDrive/CVproject/voc2012_val.h5'):\n",
        "        '''\n",
        "        Load training and validation data from .h5 files\n",
        "        Args:\n",
        "            train_data_load_path:The training data .h5 file path.\n",
        "            val_data_load_path:The validation data .h5 file path.\n",
        "        '''\n",
        "        self.load_train_data(train_data_load_path)\n",
        "        self.load_val_data(val_data_load_path)\n",
        "\n",
        "    def load_train_data(self, path='./content/drive/MyDrive/CVproject/voc2012_train.h5'):\n",
        "        '''\n",
        "        Load training data from .h5 files\n",
        "        Args:\n",
        "            train_data_load_path:The training data .h5 file path.\n",
        "        '''\n",
        "        self.train_images, self.train_labels = load_h5(path)\n",
        "\n",
        "    def load_val_data(self, path='/content/drive/MyDrive/CVproject/voc2012_val.h5'):\n",
        "        '''\n",
        "        Load validation data from .h5 files\n",
        "        Args:\n",
        "            val_data_load_path:The validation data .h5 file path.\n",
        "        '''\n",
        "        self.val_images, self.val_labels = load_h5(path)\n",
        "\n",
        "# Loading data from dataset\n",
        "\n",
        "def save_h5(path,images,labels):\n",
        "  print(\"saving h5\")\n",
        "  with h5py.File(path,'w') as hdf:\n",
        "    hdf.create_dataset('images',data=images)\n",
        "    hdf.create_dataset('labels',data=labels)\n",
        "\n",
        "def load_h5(path):\n",
        "\tprint('loading',path)\n",
        "\tfile = h5py.File(name=path,mode='r')\n",
        "\treturn file['images'],file['labels']\n",
        "\n",
        "def load_train_data(path='/content/drive/MyDrive/CVproject/voc2012_train.h5'):\n",
        "        '''\n",
        "        Load training data from .h5 files\n",
        "        Args:\n",
        "            train_data_load_path:The training data .h5 file path.\n",
        "        '''\n",
        "        return load_h5(path)\n",
        "\n",
        "def load_val_data(path='/content/drive/MyDrive/CVproject/voc2012_val.h5'):\n",
        "        '''\n",
        "        Load validation data from .h5 files\n",
        "        Args:\n",
        "            val_data_load_path:The validation data .h5 file path.\n",
        "        '''\n",
        "        return load_h5(path)\n"
      ],
      "execution_count": null,
      "outputs": []
    },
    {
      "cell_type": "markdown",
      "metadata": {
        "id": "PqAp8xW5Snpz"
      },
      "source": [
        "##Utilities"
      ]
    },
    {
      "cell_type": "code",
      "metadata": {
        "id": "3zTbghciSl4D"
      },
      "source": [
        "def parse_example(example):\n",
        "    '''Parse tf Example to obtain image and label.    \n",
        "    '''\n",
        "    feature_description = {\n",
        "        'height': tf.io.FixedLenFeature([], tf.int64),\n",
        "        'width': tf.io.FixedLenFeature([], tf.int64),\n",
        "        'image': tf.io.FixedLenFeature([], tf.string),\n",
        "        'label': tf.io.FixedLenFeature([], tf.string),\n",
        "    }\n",
        "    feature_dict = tf.io.parse_single_example(example, feature_description)\n",
        "    height,width = feature_dict['height'],feature_dict['width']\n",
        "    image = tf.reshape(tf.io.decode_raw(feature_dict['image'], out_type=tf.uint8), (height, width, 3))\n",
        "    label = tf.reshape(tf.io.decode_raw(feature_dict['label'], out_type=tf.uint8), (height, width, 1))\n",
        "    return image, label\n",
        "\n",
        "def resize(image, label, size=512):\n",
        "    '''Resize with pad and keep aspect ratio'''\n",
        "    image = tf.image.resize_with_pad(image, size, size, method=tf.image.ResizeMethod.NEAREST_NEIGHBOR)\n",
        "    label = tf.image.resize_with_pad(label+1, size, size, method=tf.image.ResizeMethod.NEAREST_NEIGHBOR)-1\n",
        "    return image, label\n",
        "    \n",
        "def Extract_dataset():\n",
        "  def mapper(example):\n",
        "      image, label = parse_example(example)\n",
        "      return resize(image, label) # no augmentation\n",
        "\n",
        "  train_dataset = tf.data.TFRecordDataset('/content/drive/MyDrive/VOC2011_all/train.tfrecords').map(mapper)\n",
        "  val_dataset = tf.data.TFRecordDataset('/content/drive/MyDrive/VOC2011_all/val.tfrecords').map(mapper)\n",
        "  return train_dataset,val_dataset\n",
        "\n",
        "def arg_max_label(pred):\n",
        "    '''Opposite of label_to_onehot().'''\n",
        "    pred = np.argmax(pred, axis=-1).astype(np.uint8)\n",
        "    return pred[..., None]\n",
        "\n",
        "def Retrieve_label_mat(path):\n",
        "    '''Retrieve class labels for each pixel from Berkeley SBD .mat file.'''\n",
        "    mat_file = scipy.io.loadmat(path)\n",
        "    mat_label = mat_file['GTcls']['Segmentation'].item(0,0) # Berkely SBD mat convention\n",
        "    return mat_label[..., None]\n",
        "\n",
        "def read_image(path):\n",
        "    '''Retrieve image as array of RGB values from .jpg file.\n",
        "    '''\n",
        "    img = Image.open(path).convert('RGB')\n",
        "    return np.array(img)\n",
        "\n",
        "#mapping colors\n",
        "PALETTE = np.reshape([\n",
        "    0, 0, 0, 128, 0, 0, 0, 128, 0, 128, 128, 0, 0, 0, 128, 128, 0, 128, 0, 128,\n",
        "    128, 128, 128, 128, 64, 0, 0, 192, 0, 0, 64, 128, 0, 192, 128, 0, 64, 0,\n",
        "    128, 192, 0, 128, 64, 128, 128, 192, 128, 128, 0, 64, 0, 128, 64, 0, 0,\n",
        "    192, 0, 128, 192, 0, 0, 64, 128, 128, 64, 128, 0, 192, 128, 128, 192, 128,\n",
        "    64, 64, 0, 192, 64, 0, 64, 192, 0, 192, 192, 0, 64, 64, 128, 192, 64, 128,\n",
        "    64, 192, 128, 192, 192, 128, 0, 0, 64, 128, 0, 64, 0, 128, 64, 128, 128,\n",
        "    64, 0, 0, 192, 128, 0, 192, 0, 128, 192, 128, 128, 192, 64, 0, 64, 192, 0,\n",
        "    64, 64, 128, 64, 192, 128, 64, 64, 0, 192, 192, 0, 192, 64, 128, 192, 192,\n",
        "    128, 192, 0, 64, 64, 128, 64, 64, 0, 192, 64, 128, 192, 64, 0, 64, 192,\n",
        "    128, 64, 192, 0, 192, 192, 128, 192, 192, 64, 64, 64, 192, 64, 64, 64, 192,\n",
        "    64, 192, 192, 64, 64, 64, 192, 192, 64, 192, 64, 192, 192, 192, 192, 192,\n",
        "    32, 0, 0, 160, 0, 0, 32, 128, 0, 160, 128, 0, 32, 0, 128, 160, 0, 128, 32,\n",
        "    128, 128, 160, 128, 128, 96, 0, 0, 224, 0, 0, 96, 128, 0, 224, 128, 0, 96,\n",
        "    0, 128, 224, 0, 128, 96, 128, 128, 224, 128, 128, 32, 64, 0, 160, 64, 0,\n",
        "    32, 192, 0, 160, 192, 0, 32, 64, 128, 160, 64, 128, 32, 192, 128, 160, 192,\n",
        "    128, 96, 64, 0, 224, 64, 0, 96, 192, 0, 224, 192, 0, 96, 64, 128, 224, 64,\n",
        "    128, 96, 192, 128, 224, 192, 128, 32, 0, 64, 160, 0, 64, 32, 128, 64, 160,\n",
        "    128, 64, 32, 0, 192, 160, 0, 192, 32, 128, 192, 160, 128, 192, 96, 0, 64,\n",
        "    224, 0, 64, 96, 128, 64, 224, 128, 64, 96, 0, 192, 224, 0, 192, 96, 128,\n",
        "    192, 224, 128, 192, 32, 64, 64, 160, 64, 64, 32, 192, 64, 160, 192, 64, 32,\n",
        "    64, 192, 160, 64, 192, 32, 192, 192, 160, 192, 192, 96, 64, 64, 224, 64,\n",
        "    64, 96, 192, 64, 224, 192, 64, 96, 64, 192, 224, 64, 192, 96, 192, 192,\n",
        "    224, 192, 192, 0, 32, 0, 128, 32, 0, 0, 160, 0, 128, 160, 0, 0, 32, 128,\n",
        "    128, 32, 128, 0, 160, 128, 128, 160, 128, 64, 32, 0, 192, 32, 0, 64, 160,\n",
        "    0, 192, 160, 0, 64, 32, 128, 192, 32, 128, 64, 160, 128, 192, 160, 128, 0,\n",
        "    96, 0, 128, 96, 0, 0, 224, 0, 128, 224, 0, 0, 96, 128, 128, 96, 128, 0,\n",
        "    224, 128, 128, 224, 128, 64, 96, 0, 192, 96, 0, 64, 224, 0, 192, 224, 0,\n",
        "    64, 96, 128, 192, 96, 128, 64, 224, 128, 192, 224, 128, 0, 32, 64, 128, 32,\n",
        "    64, 0, 160, 64, 128, 160, 64, 0, 32, 192, 128, 32, 192, 0, 160, 192, 128,\n",
        "    160, 192, 64, 32, 64, 192, 32, 64, 64, 160, 64, 192, 160, 64, 64, 32, 192,\n",
        "    192, 32, 192, 64, 160, 192, 192, 160, 192, 0, 96, 64, 128, 96, 64, 0, 224,\n",
        "    64, 128, 224, 64, 0, 96, 192, 128, 96, 192, 0, 224, 192, 128, 224, 192, 64,\n",
        "    96, 64, 192, 96, 64, 64, 224, 64, 192, 224, 64, 64, 96, 192, 192, 96, 192,\n",
        "    64, 224, 192, 192, 224, 192, 32, 32, 0, 160, 32, 0, 32, 160, 0, 160, 160,\n",
        "    0, 32, 32, 128, 160, 32, 128, 32, 160, 128, 160, 160, 128, 96, 32, 0, 224,\n",
        "    32, 0, 96, 160, 0, 224, 160, 0, 96, 32, 128, 224, 32, 128, 96, 160, 128,\n",
        "    224, 160, 128, 32, 96, 0, 160, 96, 0, 32, 224, 0, 160, 224, 0, 32, 96, 128,\n",
        "    160, 96, 128, 32, 224, 128, 160, 224, 128, 96, 96, 0, 224, 96, 0, 96, 224,\n",
        "    0, 224, 224, 0, 96, 96, 128, 224, 96, 128, 96, 224, 128, 224, 224, 128, 32,\n",
        "    32, 64, 160, 32, 64, 32, 160, 64, 160, 160, 64, 32, 32, 192, 160, 32, 192,\n",
        "    32, 160, 192, 160, 160, 192, 96, 32, 64, 224, 32, 64, 96, 160, 64, 224,\n",
        "    160, 64, 96, 32, 192, 224, 32, 192, 96, 160, 192, 224, 160, 192, 32, 96,\n",
        "    64, 160, 96, 64, 32, 224, 64, 160, 224, 64, 32, 96, 192, 160, 96, 192, 32,\n",
        "    224, 192, 160, 224, 192, 96, 96, 64, 224, 96, 64, 96, 224, 64, 224, 224,\n",
        "    64, 96, 96, 192, 224, 96, 192, 96, 224, 192, 224, 224, 192], (-1, 3))\n",
        "\n",
        "def label_to_image(label, palette=PALETTE):\n",
        "    '''Converts class labels to color image using a palette.\n",
        "    '''\n",
        "    return palette[label[..., 0]].astype(np.uint8)\n",
        "\n",
        "def Eval_show_sample(img_orig, label_orig, model):\n",
        "  img, label = resize(img_orig, label_orig)\n",
        "  y_pred = model(img[None])[0]\n",
        "  _ = model.evaluate(img[None], label[None])\n",
        "\n",
        "  y_pred = tf.image.resize_with_crop_or_pad(y_pred, label_orig.shape[0], label_orig.shape[1])\n",
        "  y_pred = arg_max_label(y_pred)\n",
        "\n",
        "  plt.figure()\n",
        "  plt.imshow(label_to_image(label_orig))\n",
        "  plt.show()\n",
        "\n",
        "  plt.figure()\n",
        "  plt.imshow(label_to_image(y_pred))\n",
        "  plt.savefig('/content/y_pred.png')\n",
        "  plt.show()\n"
      ],
      "execution_count": null,
      "outputs": []
    },
    {
      "cell_type": "markdown",
      "metadata": {
        "id": "vK2EEl8kTj1-"
      },
      "source": [
        "##Losses & Evaluation Metrics"
      ]
    },
    {
      "cell_type": "code",
      "metadata": {
        "id": "hfEqVOEISmT6"
      },
      "source": [
        "def cross_entropy(label, pred):\n",
        "    '''Custom cross-entropy to handle borders (class = -1).'''\n",
        "    n = tf.math.reduce_sum(tf.cast(label != 255, tf.float32))\n",
        "    y_true_onehot = tf.cast(np.arange(21) == label, tf.float32)\n",
        "    return tf.reduce_sum(-y_true_onehot * tf.math.log(pred + 1e-7)) / n\n",
        "    \n",
        "    \n",
        "def pixel_accuracy(label, pred):\n",
        "    '''Custom pixel accuracy to handle borders (class = -1).'''\n",
        "    n = tf.math.reduce_sum(tf.cast(label != 255, tf.float32))\n",
        "    label = tf.cast(label, tf.int32)[..., 0]\n",
        "    pred = tf.argmax(pred, axis=-1, output_type=tf.int32)\n",
        "    return tf.reduce_sum(tf.cast(label == pred, tf.float32)) / n\n",
        "\n",
        "\n",
        "\n",
        "class Mean_IoU(keras.metrics.MeanIoU):\n",
        "    '''Custom meanIoU to handle borders (class = -1).'''\n",
        "    def update_state(self,label, pred, sample_weight=None):\n",
        "        pred = tf.argmax(pred, axis=-1)\n",
        "        ## add 1 so boundary class=0\n",
        "        label = tf.cast(label+1, self._dtype)\n",
        "        pred = tf.cast(pred+1, self._dtype)\n",
        "        ## Flatten the input if its rank > 1.\n",
        "        if pred.shape.ndims > 1:\n",
        "            pred = tf.reshape(pred, [-1])\n",
        "        if label.shape.ndims > 1:\n",
        "            label = tf.reshape(label, [-1])\n",
        "        ## calculate confusion matrix with one extra class\n",
        "        current_cm = tf.math.confusion_matrix(\n",
        "            label,\n",
        "            pred,\n",
        "            self.num_classes+1,\n",
        "            weights=sample_weight, #non-weighted IOU\n",
        "            dtype=self._dtype)\n",
        "        return self.total_cm.assign_add(current_cm[1:, 1:]) # remove boundary"
      ],
      "execution_count": null,
      "outputs": []
    },
    {
      "cell_type": "markdown",
      "metadata": {
        "id": "HxBKnZjlgKg3"
      },
      "source": [
        "#Models"
      ]
    },
    {
      "cell_type": "code",
      "metadata": {
        "id": "BwT60B0BE36k"
      },
      "source": [
        "#Fully Convolutional Networks Class, Implementing FCN_32 & FCN_8s\n",
        "class FCN():\n",
        "  def __init__(self):\n",
        "    self.encoder= self.VGG_encoder(input_height=None, input_width=None, channels=3)\n",
        "    self.fcn_32= self.FCN_32(21,self.VGG_encoder,input_height=None, input_width=None, channels=3)\n",
        "    self.fcn_8s= self.FCN_8s(21,self.VGG_encoder,input_height=None, input_width=None, channels=3)\n",
        "\n",
        "  def VGG_encoder(self,input_height=None, input_width=None, channels=3,l2=1e-6, drop_p=0.2):\n",
        "    \n",
        "    Data_shape = 'channels_last'\n",
        "    img_input = Input(shape=(input_height, input_width, channels))\n",
        "    x=keras.layers.Lambda(tf.keras.applications.vgg16.preprocess_input, name='preprocessing')(img_input)\n",
        "\n",
        "    # Block 1\n",
        "    x = Conv2D(64, (3, 3), activation='relu',kernel_regularizer=keras.regularizers.L2(l2=l2), padding='same',\n",
        "               name='block1_conv1', data_format=Data_shape)(x)\n",
        "    x = Conv2D(64, (3, 3), activation='relu',kernel_regularizer=keras.regularizers.L2(l2=l2), padding='same',\n",
        "               name='block1_conv2', data_format=Data_shape)(x)\n",
        "    x = MaxPooling2D((2, 2), strides=(2, 2), padding='valid', name='block1_pool',\n",
        "                     data_format=Data_shape)(x)\n",
        "    # Block 2\n",
        "    x = Conv2D(128, (3, 3), activation='relu', padding='same',kernel_regularizer=keras.regularizers.L2(l2=l2),\n",
        "               name='block2_conv1', data_format=Data_shape)(x)\n",
        "    x = Conv2D(128, (3, 3), activation='relu', padding='same',kernel_regularizer=keras.regularizers.L2(l2=l2),\n",
        "               name='block2_conv2', data_format=Data_shape)(x)\n",
        "    x = MaxPooling2D((2, 2), strides=(2, 2), padding='valid', name='block2_pool',\n",
        "                     data_format=Data_shape)(x)\n",
        "\n",
        "    # Block 3\n",
        "    x = Conv2D(256, (3, 3), activation='relu', padding='same',kernel_regularizer=keras.regularizers.L2(l2=l2),\n",
        "               name='block3_conv1', data_format=Data_shape)(x)\n",
        "    x = Conv2D(256, (3, 3), activation='relu', padding='same',kernel_regularizer=keras.regularizers.L2(l2=l2),\n",
        "               name='block3_conv2', data_format=Data_shape)(x)\n",
        "    x = Conv2D(256, (3, 3), activation='relu', padding='same',kernel_regularizer=keras.regularizers.L2(l2=l2),\n",
        "               name='block3_conv3', data_format=Data_shape)(x)\n",
        "    x = MaxPooling2D((2, 2), strides=(2, 2), padding='valid', name='block3_pool',\n",
        "                     data_format=Data_shape)(x)\n",
        "    bool3_skip = x\n",
        "\n",
        "    # Block 4\n",
        "    x = Conv2D(512, (3, 3), activation='relu', padding='same',kernel_regularizer=keras.regularizers.L2(l2=l2),\n",
        "               name='block4_conv1', data_format=Data_shape)(x)\n",
        "    x = Conv2D(512, (3, 3), activation='relu', padding='same',kernel_regularizer=keras.regularizers.L2(l2=l2),\n",
        "               name='block4_conv2', data_format=Data_shape)(x)\n",
        "    x = Conv2D(512, (3, 3), activation='relu', padding='same',kernel_regularizer=keras.regularizers.L2(l2=l2),\n",
        "               name='block4_conv3', data_format=Data_shape)(x)\n",
        "    x = MaxPooling2D((2, 2), strides=(2, 2), padding='valid', name='block4_pool',\n",
        "                     data_format=Data_shape)(x)\n",
        "    bool4_skip = x\n",
        "\n",
        "    # Block 5\n",
        "    x = Conv2D(512, (3, 3), activation='relu', padding='same',kernel_regularizer=keras.regularizers.L2(l2=l2),\n",
        "               name='block5_conv1', data_format=Data_shape)(x)\n",
        "    x = Conv2D(512, (3, 3), activation='relu', padding='same',kernel_regularizer=keras.regularizers.L2(l2=l2),\n",
        "               name='block5_conv2', data_format=Data_shape)(x)\n",
        "    x = Conv2D(512, (3, 3), activation='relu', padding='same',kernel_regularizer=keras.regularizers.L2(l2=l2),\n",
        "               name='block5_conv3', data_format=Data_shape)(x)\n",
        "    x = MaxPooling2D((2, 2), strides=(2, 2), padding='valid', name='block5_pool',\n",
        "                     data_format=Data_shape)(x)\n",
        "\n",
        "    #Convlutionize the fully-connected layers\n",
        "\n",
        "    o = (Conv2D(4096, (7, 7), activation='relu',kernel_regularizer=keras.regularizers.L2(l2=l2),\n",
        "                padding='same', data_format=Data_shape))(x)\n",
        "    o = Dropout(drop_p)(o)\n",
        "    o = (Conv2D(4096, (1, 1), activation='relu',kernel_regularizer=keras.regularizers.L2(l2=l2),\n",
        "                padding='same', data_format=Data_shape))(o)\n",
        "    output = Dropout(drop_p)(o)    \n",
        "    \n",
        "    #Last cnvolution with 1000 class not included\n",
        "    o = keras.layers.Conv2D(filters=1000, kernel_size=(1,1), strides=(1,1), padding='same', activation='softmax', \n",
        "                            name='pred')(output)                 \n",
        "\n",
        "    model = keras.Model(img_input, o)\n",
        "\n",
        "    vgg_weights = VGG16(weights='imagenet').get_weights()\n",
        "    vgg_weights[26] = vgg_weights[26].reshape(7, 7, 512, 4096)\n",
        "    vgg_weights[28] = vgg_weights[28].reshape(1, 1, 4096, 4096)\n",
        "    vgg_weights[30] = vgg_weights[30].reshape(1, 1, 4096, 1000)\n",
        "    model.set_weights(vgg_weights)\n",
        "    del vgg_weights\n",
        "    \n",
        "    return img_input, [bool3_skip,bool4_skip, output]\n",
        "\n",
        "  def FCN_32(self,n_classes, base_encoder,input_height=None, input_width=None, channels=3, l2=1e-6):\n",
        "    Data_shape = 'channels_last'\n",
        "    input, bool_layers = base_encoder(input_height=input_height, input_width=input_width, channels=channels)\n",
        "    _,_,out = bool_layers\n",
        "\n",
        "    o = (Conv2D(n_classes, kernel_size=(1,1), strides=(1,1), padding='same', activation='linear',\n",
        "                            kernel_regularizer=keras.regularizers.L2(l2=l2),data_format=Data_shape))(out)\n",
        "\n",
        "    o =  Conv2DTranspose(n_classes, kernel_size=(64,64), strides=(32,32),\n",
        "                                     padding='same', use_bias=False, activation='softmax',\n",
        "                                     kernel_initializer=BilinearInitializer(),\n",
        "                                     kernel_regularizer=keras.regularizers.L2(l2=l2), data_format=Data_shape, trainable=False)(o)\n",
        "\n",
        "   \n",
        "    fcn_32= Model(input, o)\n",
        "    return fcn_32\n",
        "\n",
        "  def FCN_8s(self,n_classes, base_encoder,input_height=None, input_width=None, channels=3, l2=1e-6):\n",
        "\n",
        "    Data_shape = 'channels_last'\n",
        "    input, bool_layers = base_encoder(input_height=input_height, input_width=input_width, channels=channels)\n",
        "    bool3,bool4,out = bool_layers\n",
        "\n",
        "\n",
        "    \n",
        "\n",
        "    o = (Conv2D(n_classes,  (1, 1), padding='same', activation='linear',\n",
        "                            kernel_regularizer=keras.regularizers.L2(l2=l2),data_format=Data_shape))(out)\n",
        "\n",
        "    o = Conv2DTranspose(n_classes, kernel_size=(4,4), strides=(2,2),\n",
        "                                     padding='same', use_bias=False, activation='linear',\n",
        "                                     kernel_initializer=BilinearInitializer(),\n",
        "                                     kernel_regularizer=keras.regularizers.L2(l2=l2), data_format=Data_shape, trainable=False)(o)\n",
        "\n",
        "    o2 = bool4\n",
        "    o2 = (Conv2D(n_classes, kernel_size=(1,1), strides=(1,1), padding='same', activation='linear',\n",
        "                            kernel_initializer=keras.initializers.Zeros(),\n",
        "                            kernel_regularizer=keras.regularizers.L2(l2=l2),\n",
        "                data_format=Data_shape))(o2)\n",
        "\n",
        "\n",
        "    o = Add()([o, o2])\n",
        "\n",
        "    o = Conv2DTranspose(n_classes, kernel_size=(4,4), strides=(2,2),\n",
        "                                     padding='same', use_bias=False, activation='linear',\n",
        "                                     kernel_initializer=BilinearInitializer(),\n",
        "                                     kernel_regularizer=keras.regularizers.L2(l2=l2), data_format=Data_shape, trainable=False)(o)\n",
        "\n",
        "    o2 = bool3\n",
        "    o2 = (Conv2D(n_classes, kernel_size=(1,1), strides=(1,1), padding='same', activation='linear',\n",
        "                            kernel_initializer=keras.initializers.Zeros(),\n",
        "                            kernel_regularizer=keras.regularizers.L2(l2=l2),\n",
        "                data_format=Data_shape))(o2)\n",
        "    o = Add( name=\"fuse\" )([o, o2])\n",
        "\n",
        "    o = Conv2DTranspose(n_classes, kernel_size=(16,16), strides=(8,8),\n",
        "                                     padding='same', use_bias=False, activation='softmax',\n",
        "                                     kernel_initializer=BilinearInitializer(),\n",
        "                                     kernel_regularizer=keras.regularizers.L2(l2=l2), data_format=Data_shape, trainable=False)(o)\n",
        "\n",
        "   \n",
        "    fcn_8s= Model(input, o)\n",
        "    return fcn_8s\n",
        "\n",
        "class BilinearInitializer(keras.initializers.Initializer):\n",
        "    '''Initializer for Conv2DTranspose to perform bilinear interpolation on each channel.'''\n",
        "    def __call__(self, shape, dtype=None, **kwargs):\n",
        "        kernel_size, _, filters, _ = shape\n",
        "        arr = np.zeros((kernel_size, kernel_size, filters, filters))\n",
        "        ## make filter that performs bilinear interpolation through Conv2DTranspose\n",
        "        upscale_factor = (kernel_size+1)//2\n",
        "        if kernel_size % 2 == 1:\n",
        "            center = upscale_factor - 1\n",
        "        else:\n",
        "            center = upscale_factor - 0.5\n",
        "        og = np.ogrid[:kernel_size, :kernel_size]\n",
        "        kernel = (1-np.abs(og[0]-center)/upscale_factor) * \\\n",
        "                 (1-np.abs(og[1]-center)/upscale_factor) # kernel shape is (kernel_size, kernel_size)\n",
        "        for i in range(filters):\n",
        "            arr[..., i, i] = kernel\n",
        "        return tf.convert_to_tensor(arr, dtype=dtype)"
      ],
      "execution_count": null,
      "outputs": []
    },
    {
      "cell_type": "code",
      "metadata": {
        "id": "khExXiaXKicq"
      },
      "source": [
        "models=FCN()\n",
        "fcn32_model= models.fcn_32\n",
        "fcn8s_model= models.fcn_8s"
      ],
      "execution_count": null,
      "outputs": []
    },
    {
      "cell_type": "code",
      "metadata": {
        "colab": {
          "base_uri": "https://localhost:8080/"
        },
        "id": "4uXMUYzaMCIS",
        "outputId": "1f929b2f-2cbe-4752-c8f7-bd98cb4ac8dd"
      },
      "source": [
        "fcn32_model.summary()"
      ],
      "execution_count": null,
      "outputs": [
        {
          "output_type": "stream",
          "text": [
            "Model: \"model_23\"\n",
            "_________________________________________________________________\n",
            "Layer (type)                 Output Shape              Param #   \n",
            "=================================================================\n",
            "input_29 (InputLayer)        [(None, None, None, 3)]   0         \n",
            "_________________________________________________________________\n",
            "preprocessing (Lambda)       (None, None, None, 3)     0         \n",
            "_________________________________________________________________\n",
            "block1_conv1 (Conv2D)        (None, None, None, 64)    1792      \n",
            "_________________________________________________________________\n",
            "block1_conv2 (Conv2D)        (None, None, None, 64)    36928     \n",
            "_________________________________________________________________\n",
            "block1_pool (MaxPooling2D)   (None, None, None, 64)    0         \n",
            "_________________________________________________________________\n",
            "block2_conv1 (Conv2D)        (None, None, None, 128)   73856     \n",
            "_________________________________________________________________\n",
            "block2_conv2 (Conv2D)        (None, None, None, 128)   147584    \n",
            "_________________________________________________________________\n",
            "block2_pool (MaxPooling2D)   (None, None, None, 128)   0         \n",
            "_________________________________________________________________\n",
            "block3_conv1 (Conv2D)        (None, None, None, 256)   295168    \n",
            "_________________________________________________________________\n",
            "block3_conv2 (Conv2D)        (None, None, None, 256)   590080    \n",
            "_________________________________________________________________\n",
            "block3_conv3 (Conv2D)        (None, None, None, 256)   590080    \n",
            "_________________________________________________________________\n",
            "block3_pool (MaxPooling2D)   (None, None, None, 256)   0         \n",
            "_________________________________________________________________\n",
            "block4_conv1 (Conv2D)        (None, None, None, 512)   1180160   \n",
            "_________________________________________________________________\n",
            "block4_conv2 (Conv2D)        (None, None, None, 512)   2359808   \n",
            "_________________________________________________________________\n",
            "block4_conv3 (Conv2D)        (None, None, None, 512)   2359808   \n",
            "_________________________________________________________________\n",
            "block4_pool (MaxPooling2D)   (None, None, None, 512)   0         \n",
            "_________________________________________________________________\n",
            "block5_conv1 (Conv2D)        (None, None, None, 512)   2359808   \n",
            "_________________________________________________________________\n",
            "block5_conv2 (Conv2D)        (None, None, None, 512)   2359808   \n",
            "_________________________________________________________________\n",
            "block5_conv3 (Conv2D)        (None, None, None, 512)   2359808   \n",
            "_________________________________________________________________\n",
            "block5_pool (MaxPooling2D)   (None, None, None, 512)   0         \n",
            "_________________________________________________________________\n",
            "conv2d_44 (Conv2D)           (None, None, None, 4096)  102764544 \n",
            "_________________________________________________________________\n",
            "dropout_28 (Dropout)         (None, None, None, 4096)  0         \n",
            "_________________________________________________________________\n",
            "conv2d_45 (Conv2D)           (None, None, None, 4096)  16781312  \n",
            "_________________________________________________________________\n",
            "dropout_29 (Dropout)         (None, None, None, 4096)  0         \n",
            "_________________________________________________________________\n",
            "conv2d_46 (Conv2D)           (None, None, None, 21)    86037     \n",
            "_________________________________________________________________\n",
            "conv2d_transpose_16 (Conv2DT (None, None, None, 21)    1806336   \n",
            "=================================================================\n",
            "Total params: 136,152,917\n",
            "Trainable params: 134,346,581\n",
            "Non-trainable params: 1,806,336\n",
            "_________________________________________________________________\n"
          ],
          "name": "stdout"
        }
      ]
    },
    {
      "cell_type": "code",
      "metadata": {
        "colab": {
          "base_uri": "https://localhost:8080/"
        },
        "id": "AOsS7vyWjnj8",
        "outputId": "9afbc0a1-aaa8-4bde-9ee6-906a5780b3e6"
      },
      "source": [
        "# Mount to drive\n",
        "# Uncomment If needed\n",
        "'''\n",
        "from google.colab import drive\n",
        "drive.mount('/content/drive')\n",
        "'''"
      ],
      "execution_count": null,
      "outputs": [
        {
          "output_type": "stream",
          "text": [
            "Mounted at /content/drive\n"
          ],
          "name": "stdout"
        }
      ]
    },
    {
      "cell_type": "markdown",
      "metadata": {
        "id": "IGKTzDBxoQRZ"
      },
      "source": [
        "#Training"
      ]
    },
    {
      "cell_type": "code",
      "metadata": {
        "id": "TRB7rWfNTVtI"
      },
      "source": [
        "#Extract Training & Validation datasets from TFrecords in Google drive :https://drive.google.com/drive/folders/1qQyXQTqyQaDeT5pB5F8Ypxpn7yZPrYyo?usp=sharing\n",
        "train_dataset, val_dataset = Extract_dataset()\n",
        "train = train_dataset.shuffle(1000).batch(16) #batch size= 16 \n",
        "val = val_dataset.shuffle(1000).batch(16) "
      ],
      "execution_count": null,
      "outputs": []
    },
    {
      "cell_type": "code",
      "metadata": {
        "colab": {
          "base_uri": "https://localhost:8080/"
        },
        "id": "DEJ7bKVBmQCj",
        "outputId": "795d9f31-2414-43f8-bf07-b2035942a6b6"
      },
      "source": [
        "#FCN_32 Training\n",
        "#Choose Optimizer, Loss, Metrics\n",
        "opt = Adam(1e-4)\n",
        "loss = cross_entropy\n",
        "metrics = [loss, pixel_accuracy, Mean_IoU(num_classes=21, name='mean_IoU')]\n",
        "\n",
        "#Compile model\n",
        "fcn32_model.compile(optimizer=opt, loss=loss, metrics=metrics)\n",
        "\n",
        "#Fit \n",
        "history = fcn32_model.fit(train, epochs=12, validation_data=val)"
      ],
      "execution_count": null,
      "outputs": [
        {
          "output_type": "stream",
          "text": [
            "Epoch 1/12\n",
            "677/677 [==============================] - 880s 1s/step - loss: 0.8570 - cross_entropy: 0.8449 - pixel_accuracy: 0.7758 - mean_IoU: 0.1724 - val_loss: 0.5394 - val_cross_entropy: 0.5271 - val_pixel_accuracy: 0.8344 - val_mean_IoU: 0.3302\n",
            "Epoch 2/12\n",
            "677/677 [==============================] - 878s 1s/step - loss: 0.5103 - cross_entropy: 0.4980 - pixel_accuracy: 0.8459 - mean_IoU: 0.3849 - val_loss: 0.4591 - val_cross_entropy: 0.4465 - val_pixel_accuracy: 0.8595 - val_mean_IoU: 0.4284\n",
            "Epoch 3/12\n",
            "677/677 [==============================] - 849s 1s/step - loss: 0.3953 - cross_entropy: 0.3826 - pixel_accuracy: 0.8755 - mean_IoU: 0.4972 - val_loss: 0.4337 - val_cross_entropy: 0.4206 - val_pixel_accuracy: 0.8656 - val_mean_IoU: 0.4469\n",
            "Epoch 4/12\n",
            "677/677 [==============================] - 848s 1s/step - loss: 0.3301 - cross_entropy: 0.3169 - pixel_accuracy: 0.8926 - mean_IoU: 0.5662 - val_loss: 0.4159 - val_cross_entropy: 0.4023 - val_pixel_accuracy: 0.8742 - val_mean_IoU: 0.4862\n",
            "Epoch 5/12\n",
            "677/677 [==============================] - 848s 1s/step - loss: 0.2691 - cross_entropy: 0.2553 - pixel_accuracy: 0.9100 - mean_IoU: 0.6427 - val_loss: 0.4271 - val_cross_entropy: 0.4128 - val_pixel_accuracy: 0.8773 - val_mean_IoU: 0.4930\n",
            "Epoch 6/12\n",
            "677/677 [==============================] - 848s 1s/step - loss: 0.2411 - cross_entropy: 0.2267 - pixel_accuracy: 0.9197 - mean_IoU: 0.6815 - val_loss: 0.3991 - val_cross_entropy: 0.3842 - val_pixel_accuracy: 0.8854 - val_mean_IoU: 0.5359\n",
            "Epoch 7/12\n",
            "677/677 [==============================] - 849s 1s/step - loss: 0.1821 - cross_entropy: 0.1671 - pixel_accuracy: 0.9380 - mean_IoU: 0.7540 - val_loss: 0.4142 - val_cross_entropy: 0.3987 - val_pixel_accuracy: 0.8854 - val_mean_IoU: 0.5403\n",
            "Epoch 8/12\n",
            "677/677 [==============================] - 848s 1s/step - loss: 0.1510 - cross_entropy: 0.1354 - pixel_accuracy: 0.9487 - mean_IoU: 0.7994 - val_loss: 0.4403 - val_cross_entropy: 0.4243 - val_pixel_accuracy: 0.8824 - val_mean_IoU: 0.5153\n",
            "Epoch 9/12\n",
            "677/677 [==============================] - 849s 1s/step - loss: 0.1949 - cross_entropy: 0.1785 - pixel_accuracy: 0.9352 - mean_IoU: 0.7369 - val_loss: 0.4295 - val_cross_entropy: 0.4127 - val_pixel_accuracy: 0.8870 - val_mean_IoU: 0.5494\n",
            "Epoch 10/12\n",
            "677/677 [==============================] - 848s 1s/step - loss: 0.1301 - cross_entropy: 0.1132 - pixel_accuracy: 0.9568 - mean_IoU: 0.8346 - val_loss: 0.4479 - val_cross_entropy: 0.4306 - val_pixel_accuracy: 0.8930 - val_mean_IoU: 0.5603\n",
            "Epoch 11/12\n",
            "677/677 [==============================] - 848s 1s/step - loss: 0.1371 - cross_entropy: 0.1197 - pixel_accuracy: 0.9547 - mean_IoU: 0.8231 - val_loss: 0.5162 - val_cross_entropy: 0.4980 - val_pixel_accuracy: 0.8774 - val_mean_IoU: 0.4952\n",
            "Epoch 12/12\n",
            "677/677 [==============================] - 848s 1s/step - loss: 0.1218 - cross_entropy: 0.1035 - pixel_accuracy: 0.9596 - mean_IoU: 0.8429 - val_loss: 0.4712 - val_cross_entropy: 0.4527 - val_pixel_accuracy: 0.8909 - val_mean_IoU: 0.5548\n"
          ],
          "name": "stdout"
        }
      ]
    },
    {
      "cell_type": "code",
      "metadata": {
        "id": "Mi1mCGeWYvKn"
      },
      "source": [
        "import pickle\n",
        "fcn32_model.save_weights('/content/drive/MyDrive/VOC2011_all/FCN_32/fcn_32_1.h5')\n",
        "\n",
        "with open('/content/drive/MyDrive/VOC2011_all/FCN_32/fcn_32_1', 'wb') as f:\n",
        "    pickle.dump(history.history, f)"
      ],
      "execution_count": null,
      "outputs": []
    },
    {
      "cell_type": "code",
      "metadata": {
        "colab": {
          "base_uri": "https://localhost:8080/",
          "height": 1000
        },
        "id": "XrXSdRpMTVwf",
        "outputId": "acd0c8a2-3a12-4427-9bc2-6ca7f8c76871"
      },
      "source": [
        "#FCN_8s Training\n",
        "#Choose Optimizer, Loss, Metrics\n",
        "opt = Adam(1e-4)\n",
        "loss = cross_entropy\n",
        "metrics = [loss, pixel_accuracy, MeanIoU(num_classes=21, name='mean_IoU')]\n",
        "\n",
        "#Compile model\n",
        "fcn8s_model.compile(optimizer=opt, loss=loss, metrics=metrics)\n",
        "\n",
        "#Fit \n",
        "history = fcn8s_model.fit(train, epochs=20, validation_data=val)\n"
      ],
      "execution_count": null,
      "outputs": [
        {
          "output_type": "stream",
          "text": [
            "Epoch 1/30\n",
            "677/677 [==============================] - 548s 795ms/step - loss: 1.2808 - crossentropy: 1.2776 - pixelacc: 0.7275 - meanIoU: 0.1019 - val_loss: 0.6307 - val_crossentropy: 0.6275 - val_pixelacc: 0.8145 - val_meanIoU: 0.2574\n",
            "Epoch 2/30\n",
            "677/677 [==============================] - 544s 794ms/step - loss: 0.5955 - crossentropy: 0.5923 - pixelacc: 0.8217 - meanIoU: 0.2858 - val_loss: 0.4587 - val_crossentropy: 0.4553 - val_pixelacc: 0.8582 - val_meanIoU: 0.3983\n",
            "Epoch 3/30\n",
            "677/677 [==============================] - 544s 795ms/step - loss: 0.4656 - crossentropy: 0.4621 - pixelacc: 0.8547 - meanIoU: 0.4069 - val_loss: 0.4335 - val_crossentropy: 0.4298 - val_pixelacc: 0.8622 - val_meanIoU: 0.4626\n",
            "Epoch 4/30\n",
            "677/677 [==============================] - 546s 797ms/step - loss: 0.3746 - crossentropy: 0.3708 - pixelacc: 0.8787 - meanIoU: 0.5030 - val_loss: 0.4057 - val_crossentropy: 0.4017 - val_pixelacc: 0.8728 - val_meanIoU: 0.4583\n",
            "Epoch 5/30\n",
            "677/677 [==============================] - 541s 791ms/step - loss: 0.3130 - crossentropy: 0.3089 - pixelacc: 0.8953 - meanIoU: 0.5681 - val_loss: 0.4002 - val_crossentropy: 0.3958 - val_pixelacc: 0.8744 - val_meanIoU: 0.4959\n",
            "Epoch 6/30\n",
            "677/677 [==============================] - 541s 790ms/step - loss: 0.2546 - crossentropy: 0.2501 - pixelacc: 0.9136 - meanIoU: 0.6460 - val_loss: 0.4285 - val_crossentropy: 0.4237 - val_pixelacc: 0.8695 - val_meanIoU: 0.4864\n",
            "Epoch 7/30\n",
            "677/677 [==============================] - 542s 791ms/step - loss: 0.2268 - crossentropy: 0.2219 - pixelacc: 0.9216 - meanIoU: 0.6839 - val_loss: 0.3846 - val_crossentropy: 0.3793 - val_pixelacc: 0.8822 - val_meanIoU: 0.5304\n",
            "Epoch 8/30\n",
            "677/677 [==============================] - 541s 790ms/step - loss: 0.1818 - crossentropy: 0.1764 - pixelacc: 0.9367 - meanIoU: 0.7445 - val_loss: 0.4019 - val_crossentropy: 0.3961 - val_pixelacc: 0.8851 - val_meanIoU: 0.5192\n",
            "Epoch 9/30\n",
            "677/677 [==============================] - 542s 791ms/step - loss: 0.1612 - crossentropy: 0.1553 - pixelacc: 0.9435 - meanIoU: 0.7739 - val_loss: 0.4182 - val_crossentropy: 0.4117 - val_pixelacc: 0.8839 - val_meanIoU: 0.5306\n",
            "Epoch 10/30\n",
            "677/677 [==============================] - 543s 793ms/step - loss: 0.1412 - crossentropy: 0.1347 - pixelacc: 0.9502 - meanIoU: 0.8030 - val_loss: 0.4218 - val_crossentropy: 0.4147 - val_pixelacc: 0.8898 - val_meanIoU: 0.5374\n",
            "Epoch 11/30\n",
            "677/677 [==============================] - 544s 793ms/step - loss: 0.1258 - crossentropy: 0.1187 - pixelacc: 0.9556 - meanIoU: 0.8228 - val_loss: 0.4390 - val_crossentropy: 0.4314 - val_pixelacc: 0.8915 - val_meanIoU: 0.5553\n",
            "Epoch 12/30\n",
            "677/677 [==============================] - 541s 791ms/step - loss: 0.1238 - crossentropy: 0.1161 - pixelacc: 0.9566 - meanIoU: 0.8302 - val_loss: 0.4424 - val_crossentropy: 0.4341 - val_pixelacc: 0.8929 - val_meanIoU: 0.5585\n",
            "Epoch 13/30\n",
            "677/677 [==============================] - 542s 791ms/step - loss: 0.0955 - crossentropy: 0.0872 - pixelacc: 0.9664 - meanIoU: 0.8698 - val_loss: 0.4526 - val_crossentropy: 0.4440 - val_pixelacc: 0.8944 - val_meanIoU: 0.5685\n",
            "Epoch 14/30\n",
            "677/677 [==============================] - 540s 788ms/step - loss: 0.0804 - crossentropy: 0.0718 - pixelacc: 0.9718 - meanIoU: 0.8956 - val_loss: 0.5531 - val_crossentropy: 0.5441 - val_pixelacc: 0.8543 - val_meanIoU: 0.4423\n",
            "Epoch 15/30\n",
            "677/677 [==============================] - 539s 787ms/step - loss: 0.2186 - crossentropy: 0.2091 - pixelacc: 0.9289 - meanIoU: 0.6959 - val_loss: 0.4593 - val_crossentropy: 0.4493 - val_pixelacc: 0.8930 - val_meanIoU: 0.5609\n",
            "Epoch 16/30\n",
            "677/677 [==============================] - 539s 787ms/step - loss: 0.0869 - crossentropy: 0.0768 - pixelacc: 0.9703 - meanIoU: 0.8825 - val_loss: 0.4911 - val_crossentropy: 0.4808 - val_pixelacc: 0.8966 - val_meanIoU: 0.5702\n",
            "Epoch 17/30\n",
            "677/677 [==============================] - 540s 789ms/step - loss: 0.0702 - crossentropy: 0.0599 - pixelacc: 0.9760 - meanIoU: 0.9091 - val_loss: 0.5018 - val_crossentropy: 0.4915 - val_pixelacc: 0.8990 - val_meanIoU: 0.5741\n",
            "Epoch 18/30\n",
            "677/677 [==============================] - 539s 787ms/step - loss: 0.0650 - crossentropy: 0.0547 - pixelacc: 0.9779 - meanIoU: 0.9178 - val_loss: 0.5055 - val_crossentropy: 0.4950 - val_pixelacc: 0.8975 - val_meanIoU: 0.5778\n",
            "Epoch 19/30\n",
            " 16/677 [..............................] - ETA: 8:24 - loss: 0.0732 - crossentropy: 0.0628 - pixelacc: 0.9747 - meanIoU: 0.8401"
          ],
          "name": "stdout"
        },
        {
          "output_type": "error",
          "ename": "KeyboardInterrupt",
          "evalue": "ignored",
          "traceback": [
            "\u001b[0;31m---------------------------------------------------------------------------\u001b[0m",
            "\u001b[0;31mKeyboardInterrupt\u001b[0m                         Traceback (most recent call last)",
            "\u001b[0;32m<ipython-input-109-52fc7419fbd6>\u001b[0m in \u001b[0;36m<module>\u001b[0;34m()\u001b[0m\n\u001b[1;32m     14\u001b[0m \u001b[0;34m\u001b[0m\u001b[0m\n\u001b[1;32m     15\u001b[0m \u001b[0;31m#history = model.fit(train_images, train_labels, validation_data=(val_images, val_labels), epochs=epochs, verbose=True, batch_size=20)\u001b[0m\u001b[0;34m\u001b[0m\u001b[0;34m\u001b[0m\u001b[0;34m\u001b[0m\u001b[0m\n\u001b[0;32m---> 16\u001b[0;31m \u001b[0mhistory\u001b[0m \u001b[0;34m=\u001b[0m \u001b[0mmodel\u001b[0m\u001b[0;34m.\u001b[0m\u001b[0mfit\u001b[0m\u001b[0;34m(\u001b[0m\u001b[0mtrain\u001b[0m\u001b[0;34m,\u001b[0m \u001b[0mepochs\u001b[0m\u001b[0;34m=\u001b[0m\u001b[0;36m30\u001b[0m\u001b[0;34m,\u001b[0m \u001b[0mvalidation_data\u001b[0m\u001b[0;34m=\u001b[0m\u001b[0mval\u001b[0m\u001b[0;34m)\u001b[0m\u001b[0;34m\u001b[0m\u001b[0;34m\u001b[0m\u001b[0m\n\u001b[0m",
            "\u001b[0;32m/usr/local/lib/python3.7/dist-packages/keras/engine/training.py\u001b[0m in \u001b[0;36mfit\u001b[0;34m(self, x, y, batch_size, epochs, verbose, callbacks, validation_split, validation_data, shuffle, class_weight, sample_weight, initial_epoch, steps_per_epoch, validation_steps, validation_batch_size, validation_freq, max_queue_size, workers, use_multiprocessing)\u001b[0m\n\u001b[1;32m   1156\u001b[0m                 _r=1):\n\u001b[1;32m   1157\u001b[0m               \u001b[0mcallbacks\u001b[0m\u001b[0;34m.\u001b[0m\u001b[0mon_train_batch_begin\u001b[0m\u001b[0;34m(\u001b[0m\u001b[0mstep\u001b[0m\u001b[0;34m)\u001b[0m\u001b[0;34m\u001b[0m\u001b[0;34m\u001b[0m\u001b[0m\n\u001b[0;32m-> 1158\u001b[0;31m               \u001b[0mtmp_logs\u001b[0m \u001b[0;34m=\u001b[0m \u001b[0mself\u001b[0m\u001b[0;34m.\u001b[0m\u001b[0mtrain_function\u001b[0m\u001b[0;34m(\u001b[0m\u001b[0miterator\u001b[0m\u001b[0;34m)\u001b[0m\u001b[0;34m\u001b[0m\u001b[0;34m\u001b[0m\u001b[0m\n\u001b[0m\u001b[1;32m   1159\u001b[0m               \u001b[0;32mif\u001b[0m \u001b[0mdata_handler\u001b[0m\u001b[0;34m.\u001b[0m\u001b[0mshould_sync\u001b[0m\u001b[0;34m:\u001b[0m\u001b[0;34m\u001b[0m\u001b[0;34m\u001b[0m\u001b[0m\n\u001b[1;32m   1160\u001b[0m                 \u001b[0mcontext\u001b[0m\u001b[0;34m.\u001b[0m\u001b[0masync_wait\u001b[0m\u001b[0;34m(\u001b[0m\u001b[0;34m)\u001b[0m\u001b[0;34m\u001b[0m\u001b[0;34m\u001b[0m\u001b[0m\n",
            "\u001b[0;32m/usr/local/lib/python3.7/dist-packages/tensorflow/python/eager/def_function.py\u001b[0m in \u001b[0;36m__call__\u001b[0;34m(self, *args, **kwds)\u001b[0m\n\u001b[1;32m    887\u001b[0m \u001b[0;34m\u001b[0m\u001b[0m\n\u001b[1;32m    888\u001b[0m       \u001b[0;32mwith\u001b[0m \u001b[0mOptionalXlaContext\u001b[0m\u001b[0;34m(\u001b[0m\u001b[0mself\u001b[0m\u001b[0;34m.\u001b[0m\u001b[0m_jit_compile\u001b[0m\u001b[0;34m)\u001b[0m\u001b[0;34m:\u001b[0m\u001b[0;34m\u001b[0m\u001b[0;34m\u001b[0m\u001b[0m\n\u001b[0;32m--> 889\u001b[0;31m         \u001b[0mresult\u001b[0m \u001b[0;34m=\u001b[0m \u001b[0mself\u001b[0m\u001b[0;34m.\u001b[0m\u001b[0m_call\u001b[0m\u001b[0;34m(\u001b[0m\u001b[0;34m*\u001b[0m\u001b[0margs\u001b[0m\u001b[0;34m,\u001b[0m \u001b[0;34m**\u001b[0m\u001b[0mkwds\u001b[0m\u001b[0;34m)\u001b[0m\u001b[0;34m\u001b[0m\u001b[0;34m\u001b[0m\u001b[0m\n\u001b[0m\u001b[1;32m    890\u001b[0m \u001b[0;34m\u001b[0m\u001b[0m\n\u001b[1;32m    891\u001b[0m       \u001b[0mnew_tracing_count\u001b[0m \u001b[0;34m=\u001b[0m \u001b[0mself\u001b[0m\u001b[0;34m.\u001b[0m\u001b[0mexperimental_get_tracing_count\u001b[0m\u001b[0;34m(\u001b[0m\u001b[0;34m)\u001b[0m\u001b[0;34m\u001b[0m\u001b[0;34m\u001b[0m\u001b[0m\n",
            "\u001b[0;32m/usr/local/lib/python3.7/dist-packages/tensorflow/python/eager/def_function.py\u001b[0m in \u001b[0;36m_call\u001b[0;34m(self, *args, **kwds)\u001b[0m\n\u001b[1;32m    915\u001b[0m       \u001b[0;31m# In this case we have created variables on the first call, so we run the\u001b[0m\u001b[0;34m\u001b[0m\u001b[0;34m\u001b[0m\u001b[0;34m\u001b[0m\u001b[0m\n\u001b[1;32m    916\u001b[0m       \u001b[0;31m# defunned version which is guaranteed to never create variables.\u001b[0m\u001b[0;34m\u001b[0m\u001b[0;34m\u001b[0m\u001b[0;34m\u001b[0m\u001b[0m\n\u001b[0;32m--> 917\u001b[0;31m       \u001b[0;32mreturn\u001b[0m \u001b[0mself\u001b[0m\u001b[0;34m.\u001b[0m\u001b[0m_stateless_fn\u001b[0m\u001b[0;34m(\u001b[0m\u001b[0;34m*\u001b[0m\u001b[0margs\u001b[0m\u001b[0;34m,\u001b[0m \u001b[0;34m**\u001b[0m\u001b[0mkwds\u001b[0m\u001b[0;34m)\u001b[0m  \u001b[0;31m# pylint: disable=not-callable\u001b[0m\u001b[0;34m\u001b[0m\u001b[0;34m\u001b[0m\u001b[0m\n\u001b[0m\u001b[1;32m    918\u001b[0m     \u001b[0;32melif\u001b[0m \u001b[0mself\u001b[0m\u001b[0;34m.\u001b[0m\u001b[0m_stateful_fn\u001b[0m \u001b[0;32mis\u001b[0m \u001b[0;32mnot\u001b[0m \u001b[0;32mNone\u001b[0m\u001b[0;34m:\u001b[0m\u001b[0;34m\u001b[0m\u001b[0;34m\u001b[0m\u001b[0m\n\u001b[1;32m    919\u001b[0m       \u001b[0;31m# Release the lock early so that multiple threads can perform the call\u001b[0m\u001b[0;34m\u001b[0m\u001b[0;34m\u001b[0m\u001b[0;34m\u001b[0m\u001b[0m\n",
            "\u001b[0;32m/usr/local/lib/python3.7/dist-packages/tensorflow/python/eager/function.py\u001b[0m in \u001b[0;36m__call__\u001b[0;34m(self, *args, **kwargs)\u001b[0m\n\u001b[1;32m   3022\u001b[0m        filtered_flat_args) = self._maybe_define_function(args, kwargs)\n\u001b[1;32m   3023\u001b[0m     return graph_function._call_flat(\n\u001b[0;32m-> 3024\u001b[0;31m         filtered_flat_args, captured_inputs=graph_function.captured_inputs)  # pylint: disable=protected-access\n\u001b[0m\u001b[1;32m   3025\u001b[0m \u001b[0;34m\u001b[0m\u001b[0m\n\u001b[1;32m   3026\u001b[0m   \u001b[0;34m@\u001b[0m\u001b[0mproperty\u001b[0m\u001b[0;34m\u001b[0m\u001b[0;34m\u001b[0m\u001b[0m\n",
            "\u001b[0;32m/usr/local/lib/python3.7/dist-packages/tensorflow/python/eager/function.py\u001b[0m in \u001b[0;36m_call_flat\u001b[0;34m(self, args, captured_inputs, cancellation_manager)\u001b[0m\n\u001b[1;32m   1959\u001b[0m       \u001b[0;31m# No tape is watching; skip to running the function.\u001b[0m\u001b[0;34m\u001b[0m\u001b[0;34m\u001b[0m\u001b[0;34m\u001b[0m\u001b[0m\n\u001b[1;32m   1960\u001b[0m       return self._build_call_outputs(self._inference_function.call(\n\u001b[0;32m-> 1961\u001b[0;31m           ctx, args, cancellation_manager=cancellation_manager))\n\u001b[0m\u001b[1;32m   1962\u001b[0m     forward_backward = self._select_forward_and_backward_functions(\n\u001b[1;32m   1963\u001b[0m         \u001b[0margs\u001b[0m\u001b[0;34m,\u001b[0m\u001b[0;34m\u001b[0m\u001b[0;34m\u001b[0m\u001b[0m\n",
            "\u001b[0;32m/usr/local/lib/python3.7/dist-packages/tensorflow/python/eager/function.py\u001b[0m in \u001b[0;36mcall\u001b[0;34m(self, ctx, args, cancellation_manager)\u001b[0m\n\u001b[1;32m    594\u001b[0m               \u001b[0minputs\u001b[0m\u001b[0;34m=\u001b[0m\u001b[0margs\u001b[0m\u001b[0;34m,\u001b[0m\u001b[0;34m\u001b[0m\u001b[0;34m\u001b[0m\u001b[0m\n\u001b[1;32m    595\u001b[0m               \u001b[0mattrs\u001b[0m\u001b[0;34m=\u001b[0m\u001b[0mattrs\u001b[0m\u001b[0;34m,\u001b[0m\u001b[0;34m\u001b[0m\u001b[0;34m\u001b[0m\u001b[0m\n\u001b[0;32m--> 596\u001b[0;31m               ctx=ctx)\n\u001b[0m\u001b[1;32m    597\u001b[0m         \u001b[0;32melse\u001b[0m\u001b[0;34m:\u001b[0m\u001b[0;34m\u001b[0m\u001b[0;34m\u001b[0m\u001b[0m\n\u001b[1;32m    598\u001b[0m           outputs = execute.execute_with_cancellation(\n",
            "\u001b[0;32m/usr/local/lib/python3.7/dist-packages/tensorflow/python/eager/execute.py\u001b[0m in \u001b[0;36mquick_execute\u001b[0;34m(op_name, num_outputs, inputs, attrs, ctx, name)\u001b[0m\n\u001b[1;32m     58\u001b[0m     \u001b[0mctx\u001b[0m\u001b[0;34m.\u001b[0m\u001b[0mensure_initialized\u001b[0m\u001b[0;34m(\u001b[0m\u001b[0;34m)\u001b[0m\u001b[0;34m\u001b[0m\u001b[0;34m\u001b[0m\u001b[0m\n\u001b[1;32m     59\u001b[0m     tensors = pywrap_tfe.TFE_Py_Execute(ctx._handle, device_name, op_name,\n\u001b[0;32m---> 60\u001b[0;31m                                         inputs, attrs, num_outputs)\n\u001b[0m\u001b[1;32m     61\u001b[0m   \u001b[0;32mexcept\u001b[0m \u001b[0mcore\u001b[0m\u001b[0;34m.\u001b[0m\u001b[0m_NotOkStatusException\u001b[0m \u001b[0;32mas\u001b[0m \u001b[0me\u001b[0m\u001b[0;34m:\u001b[0m\u001b[0;34m\u001b[0m\u001b[0;34m\u001b[0m\u001b[0m\n\u001b[1;32m     62\u001b[0m     \u001b[0;32mif\u001b[0m \u001b[0mname\u001b[0m \u001b[0;32mis\u001b[0m \u001b[0;32mnot\u001b[0m \u001b[0;32mNone\u001b[0m\u001b[0;34m:\u001b[0m\u001b[0;34m\u001b[0m\u001b[0;34m\u001b[0m\u001b[0m\n",
            "\u001b[0;31mKeyboardInterrupt\u001b[0m: "
          ]
        }
      ]
    },
    {
      "cell_type": "markdown",
      "metadata": {
        "id": "SsEzh94NpgGa"
      },
      "source": [
        "#Evaluation"
      ]
    },
    {
      "cell_type": "code",
      "metadata": {
        "colab": {
          "base_uri": "https://localhost:8080/",
          "height": 559
        },
        "id": "gWMgqAzDppcL",
        "outputId": "ad23a216-16cd-41e9-c498-7defdf29f842"
      },
      "source": [
        "#FCN32\n",
        "import scipy\n",
        "from scipy import io\n",
        "img_o = read_image('/content/rider.jpg')\n",
        "label_o =Retrieve_label_mat('/content/rider_label.mat')\n",
        "Eval_show_sample(img_o, label_o, fcn32_model)"
      ],
      "execution_count": null,
      "outputs": [
        {
          "output_type": "stream",
          "text": [
            "1/1 [==============================] - 0s 80ms/step - loss: 0.0943 - cross_entropy: 0.0759 - pixel_accuracy: 0.9739 - mean_IoU: 0.8122\n"
          ],
          "name": "stdout"
        },
        {
          "output_type": "display_data",
          "data": {
            "image/png": "[encoded data removed]",
            "text/plain": [
              "<Figure size 432x288 with 1 Axes>"
            ]
          },
          "metadata": {
            "tags": [],
            "needs_background": "light"
          }
        },
        {
          "output_type": "display_data",
          "data": {
            "image/png": "[encoded data removed]",
            "text/plain": [
              "<Figure size 432x288 with 1 Axes>"
            ]
          },
          "metadata": {
            "tags": [],
            "needs_background": "light"
          }
        }
      ]
    },
    {
      "cell_type": "code",
      "metadata": {
        "colab": {
          "base_uri": "https://localhost:8080/",
          "height": 559
        },
        "id": "XXmYPSFDpp2B",
        "outputId": "17cd1fb0-943d-48f7-9871-48865cefbbf0"
      },
      "source": [
        "#FCN32\n",
        "import scipy\n",
        "from scipy import io\n",
        "img_o = read_image('/content/2008_001885.jpg')\n",
        "label_o =Retrieve_label_mat('/content/2008_001885.mat')\n",
        "Eval_show_sample(img_o, label_o, fcn32_model)"
      ],
      "execution_count": null,
      "outputs": [
        {
          "output_type": "stream",
          "text": [
            "1/1 [==============================] - 0s 84ms/step - loss: 0.1779 - cross_entropy: 0.1594 - pixel_accuracy: 0.9501 - mean_IoU: 0.4516\n"
          ],
          "name": "stdout"
        },
        {
          "output_type": "display_data",
          "data": {
            "image/png": "[encoded data removed]",
            "text/plain": [
              "<Figure size 432x288 with 1 Axes>"
            ]
          },
          "metadata": {
            "tags": [],
            "needs_background": "light"
          }
        },
        {
          "output_type": "display_data",
          "data": {
            "image/png": "[encoded data removed]",
            "text/plain": [
              "<Figure size 432x288 with 1 Axes>"
            ]
          },
          "metadata": {
            "tags": [],
            "needs_background": "light"
          }
        }
      ]
    },
    {
      "cell_type": "code",
      "metadata": {
        "colab": {
          "base_uri": "https://localhost:8080/",
          "height": 559
        },
        "id": "rS8xfv3Tpp3U",
        "outputId": "d7d3f86b-bea1-4518-d35e-b03e76445b61"
      },
      "source": [
        "#FCN32\n",
        "img_o = read_image('/content/2008_000475.jpg')\n",
        "label_o =Retrieve_label_mat('/content/2008_000475.mat')\n",
        "Eval_show_sample(img_o, label_o, fcn32_model)"
      ],
      "execution_count": null,
      "outputs": [
        {
          "output_type": "stream",
          "text": [
            "1/1 [==============================] - 0s 82ms/step - loss: 0.1840 - cross_entropy: 0.1655 - pixel_accuracy: 0.9345 - mean_IoU: 0.8647\n"
          ],
          "name": "stdout"
        },
        {
          "output_type": "display_data",
          "data": {
            "image/png": "[encoded data removed]",
            "text/plain": [
              "<Figure size 432x288 with 1 Axes>"
            ]
          },
          "metadata": {
            "tags": [],
            "needs_background": "light"
          }
        },
        {
          "output_type": "display_data",
          "data": {
            "image/png": "[encoded data removed]",
            "text/plain": [
              "<Figure size 432x288 with 1 Axes>"
            ]
          },
          "metadata": {
            "tags": [],
            "needs_background": "light"
          }
        }
      ]
    },
    {
      "cell_type": "code",
      "metadata": {
        "id": "oisXsinQpCTk"
      },
      "source": [
        "#load FCN_8s model weights \n",
        "fcn8_load= models.fcn_8s\n",
        "fcn8_load.load_weights('/content/drive/MyDrive/VOC2011_all/FCN_8s/fcn_8s_2.h5')\n",
        "fcn8_load.compile(optimizer=opt, loss=loss, metrics=metrics)\n"
      ],
      "execution_count": null,
      "outputs": []
    },
    {
      "cell_type": "code",
      "metadata": {
        "colab": {
          "base_uri": "https://localhost:8080/",
          "height": 559
        },
        "id": "oO5k7T53p9VA",
        "outputId": "f1d266dd-c5c4-4703-caff-853a45df214b"
      },
      "source": [
        "#FCN_8s\n",
        "img_o = read_image('/content/rider.jpg')\n",
        "label_o =Retrieve_label_mat('/content/rider_label.mat')\n",
        "Eval_show_sample(img_o, label_o, fcn8_load)"
      ],
      "execution_count": null,
      "outputs": [
        {
          "output_type": "stream",
          "text": [
            "1/1 [==============================] - 0s 80ms/step - loss: 0.0716 - cross_entropy: 0.0612 - pixel_accuracy: 0.9762 - mean_IoU: 0.8125\n"
          ],
          "name": "stdout"
        },
        {
          "output_type": "display_data",
          "data": {
            "image/png": "[encoded data removed]",
            "text/plain": [
              "<Figure size 432x288 with 1 Axes>"
            ]
          },
          "metadata": {
            "tags": [],
            "needs_background": "light"
          }
        },
        {
          "output_type": "display_data",
          "data": {
            "image/png": "[encoded data removed]",
            "text/plain": [
              "<Figure size 432x288 with 1 Axes>"
            ]
          },
          "metadata": {
            "tags": [],
            "needs_background": "light"
          }
        }
      ]
    },
    {
      "cell_type": "code",
      "metadata": {
        "colab": {
          "base_uri": "https://localhost:8080/",
          "height": 559
        },
        "id": "2gPdQnR4O9I7",
        "outputId": "9ccc41f6-d688-4230-e66e-1f0dd469d34c"
      },
      "source": [
        "#FCN_8s\n",
        "img_o = read_image('/content/2008_001885.jpg')\n",
        "label_o =Retrieve_label_mat('/content/2008_001885.mat')\n",
        "Eval_show_sample(img_o, label_o, fcn8_load)"
      ],
      "execution_count": null,
      "outputs": [
        {
          "output_type": "stream",
          "text": [
            "1/1 [==============================] - 0s 81ms/step - loss: 0.0738 - cross_entropy: 0.0633 - pixel_accuracy: 0.9768 - mean_IoU: 0.6347\n"
          ],
          "name": "stdout"
        },
        {
          "output_type": "display_data",
          "data": {
            "image/png": "[encoded data removed]",
            "text/plain": [
              "<Figure size 432x288 with 1 Axes>"
            ]
          },
          "metadata": {
            "tags": [],
            "needs_background": "light"
          }
        },
        {
          "output_type": "display_data",
          "data": {
            "image/png": "[encoded data removed]",
            "text/plain": [
              "<Figure size 432x288 with 1 Axes>"
            ]
          },
          "metadata": {
            "tags": [],
            "needs_background": "light"
          }
        }
      ]
    },
    {
      "cell_type": "code",
      "metadata": {
        "colab": {
          "base_uri": "https://localhost:8080/",
          "height": 559
        },
        "id": "_Mum4AZ6px2V",
        "outputId": "c7b7604a-ebdb-4aa4-8dab-ffa6e5662a40"
      },
      "source": [
        "#FCN_8s\n",
        "img_o = read_image('/content/2008_000475.jpg')\n",
        "label_o =Retrieve_label_mat('/content/2008_000475.mat')\n",
        "Eval_show_sample(img_o, label_o, fcn8_load)"
      ],
      "execution_count": null,
      "outputs": [
        {
          "output_type": "stream",
          "text": [
            "1/1 [==============================] - 0s 81ms/step - loss: 0.1256 - cross_entropy: 0.1151 - pixel_accuracy: 0.9549 - mean_IoU: 0.9054\n"
          ],
          "name": "stdout"
        },
        {
          "output_type": "display_data",
          "data": {
            "image/png": "[encoded data removed]",
            "text/plain": [
              "<Figure size 432x288 with 1 Axes>"
            ]
          },
          "metadata": {
            "tags": [],
            "needs_background": "light"
          }
        },
        {
          "output_type": "display_data",
          "data": {
            "image/png": "[encoded data removed]",
            "text/plain": [
              "<Figure size 432x288 with 1 Axes>"
            ]
          },
          "metadata": {
            "tags": [],
            "needs_background": "light"
          }
        }
      ]
    },
    {
      "cell_type": "code",
      "metadata": {
        "id": "Bf0FZWP0B97d"
      },
      "source": [
        "#Load models history \n",
        "with open('/content/drive/MyDrive/VOC2011_all/FCN_32/fcn_32_1', 'rb') as f:\n",
        "    h_32 = pickle.load(f)\n",
        "\n",
        "with open('/content/drive/MyDrive/VOC2011_all/FCN_8s/fcn_8_1', 'rb') as f:\n",
        "    h_8 = pickle.load(f)\n"
      ],
      "execution_count": null,
      "outputs": []
    },
    {
      "cell_type": "code",
      "metadata": {
        "colab": {
          "base_uri": "https://localhost:8080/",
          "height": 265
        },
        "id": "ZJODoUIDrOo_",
        "outputId": "222e060d-645b-4efe-f9a1-7eaf4033ab03"
      },
      "source": [
        "#Losses\n",
        "plt.plot(range(1,13), h_32['val_loss'], '-', color='blue', label='FCN32 validation loss')\n",
        "plt.plot(range(1,13), h_32['loss'], '--', color='blue', label='FCN32 training loss')\n",
        "plt.plot(range(1,21), h_8['val_loss'], '-', color='red', label='FCN_8s validation loss')\n",
        "plt.plot(range(1,21), h_8['loss'], '--', color='red', label='FCN_8s training loss')\n",
        "plt.legend()\n",
        "plt.savefig('/content/FCN_loss.jpg')\n",
        "plt.show()\n",
        "\n"
      ],
      "execution_count": null,
      "outputs": [
        {
          "output_type": "display_data",
          "data": {
            "image/png": "[encoded data removed]",
            "text/plain": [
              "<Figure size 432x288 with 1 Axes>"
            ]
          },
          "metadata": {
            "tags": [],
            "needs_background": "light"
          }
        }
      ]
    },
    {
      "cell_type": "code",
      "metadata": {
        "colab": {
          "base_uri": "https://localhost:8080/",
          "height": 265
        },
        "id": "xHdWPgEbrUaL",
        "outputId": "e2e3bf60-df25-4f8a-8dba-d11e64521587"
      },
      "source": [
        "#Mean_IOU\n",
        "plt.plot(range(1,13), h_32['val_mean_IoU'], '-', color='blue', label='FCN32 validation meanIoU')\n",
        "plt.plot(range(1,13), h_32['mean_IoU'], '--', color='blue', label='FCN32 training meanIoU')\n",
        "\n",
        "\n",
        "plt.plot(range(1,21), h_8['val_meanIoU'], '-', color='red', label='FCN8 validation meanIoU')\n",
        "plt.plot(range(1,21), h_8['meanIoU'], '--', color='red', label='FCN8 training meanIoU')\n",
        "\n",
        "plt.legend()\n",
        "plt.savefig('/content/FCN_IOU.jpg')\n",
        "\n",
        "plt.show()"
      ],
      "execution_count": null,
      "outputs": [
        {
          "output_type": "display_data",
          "data": {
            "image/png": "[encoded data removed]",
            "text/plain": [
              "<Figure size 432x288 with 1 Axes>"
            ]
          },
          "metadata": {
            "tags": [],
            "needs_background": "light"
          }
        }
      ]
    },
    {
      "cell_type": "code",
      "metadata": {
        "id": "n9VEpLN3s2si"
      },
      "source": [
        ""
      ],
      "execution_count": null,
      "outputs": []
    }
  ]
}